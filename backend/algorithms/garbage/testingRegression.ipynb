{
 "cells": [
  {
   "cell_type": "code",
   "execution_count": null,
   "metadata": {},
   "outputs": [
    {
     "name": "stdout",
     "output_type": "stream",
     "text": [
      "   ID            Team1              Team2  Team1 Wins  Draws  Team2 Wins\n",
      "0   1  Manchester City  Manchester United           6      1           3\n",
      "1   2        Liverpool            Chelsea           3      7           0\n",
      "2   3          Arsenal          Tottenham           6      1           3\n"
     ]
    }
   ],
   "source": [
    "import pandas as pd\n",
    "\n",
    "data = pd.read_csv(\"../datacollection/api/match_history.csv\")\n",
    "print(data.head())"
   ]
  },
  {
   "cell_type": "code",
   "execution_count": null,
   "metadata": {},
   "outputs": [],
   "source": [
    "data[\"Total Matches\"] = data[\"Team1 Wins\"] + data[\"Draws\"] + data[\"Team2 Wins\"]\n",
    "data[\"Team1 Win Rate\"] = data[\"Team1 Wins\"] / data[\"Total Matches\"]\n",
    "data[\"Team2 Win Rate\"] = data[\"Team2 Wins\"] / data[\"Total Matches\"]\n",
    "data[\"Draw Rate\"] = data[\"Draws\"] / data[\"Total Matches\"]\n",
    "\n",
    "data[\"Team1 Form\"] = data[\"Team1 Form\"].apply(lambda x: sum([1 if ch == 'W' else 0 for ch in x]) if x != \"N/A\" else 0)\n",
    "data[\"Team2 Form\"] = data[\"Team2 Form\"].apply(lambda x: sum([1 if ch == 'W' else 0 for ch in x]) if x != \"N/A\" else 0)\n",
    "\n",
    "X = data[[\"Team1 Win Rate\", \"Draw Rate\", \"Team2 Win Rate\", \"Team1 Form\", \"Team2 Form\", \"Team1 Home Wins\", \"Team1 Away Wins\", \"Team2 Home Wins\", \"Team2 Away Wins\", \"Team1 Goals\", \"Team2 Goals\", \"Team1 Over 2.5\", \"Team2 Over 2.5\"]]\n",
    "y = data[\"Team1 Wins\"] > data[\"Team2 Wins\"]  "
   ]
  },
  {
   "cell_type": "code",
   "execution_count": null,
   "metadata": {},
   "outputs": [],
   "source": [
    "from sklearn.model_selection import train_test_split\n",
    "from sklearn.linear_model import LogisticRegression\n",
    "from sklearn.metrics import accuracy_score\n",
    "\n",
    "X_train, X_test, y_train, y_test = train_test_split(X, y, test_size=0.2, random_state=42)\n",
    "\n",
    "model = LogisticRegression()\n",
    "model.fit(X_train, y_train)\n",
    "\n",
    "y_pred = model.predict(X_test)\n",
    "\n",
    "accuracy = accuracy_score(y_test, y_pred)\n",
    "print(f\"Accuracy: {accuracy}\")"
   ]
  }
 ],
 "metadata": {
  "kernelspec": {
   "display_name": "Python 3",
   "language": "python",
   "name": "python3"
  },
  "language_info": {
   "codemirror_mode": {
    "name": "ipython",
    "version": 3
   },
   "file_extension": ".py",
   "mimetype": "text/x-python",
   "name": "python",
   "nbconvert_exporter": "python",
   "pygments_lexer": "ipython3",
   "version": "3.10.12"
  }
 },
 "nbformat": 4,
 "nbformat_minor": 2
}
